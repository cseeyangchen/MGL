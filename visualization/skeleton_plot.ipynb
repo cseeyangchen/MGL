{
 "cells": [
  {
   "cell_type": "code",
   "execution_count": 1,
   "id": "8e63eb1f",
   "metadata": {},
   "outputs": [
    {
     "name": "stdout",
     "output_type": "stream",
     "text": [
      "Using matplotlib backend: TkAgg\n"
     ]
    }
   ],
   "source": [
    "%matplotlib auto\n",
    "import matplotlib.pyplot as plt\n",
    "import numpy as np\n",
    "import seaborn as sns\n",
    "import os\n",
    "import math\n",
    "from mpl_toolkits.mplot3d import Axes3D"
   ]
  },
  {
   "cell_type": "markdown",
   "id": "48d4647a",
   "metadata": {},
   "source": [
    "### NTU60的动作"
   ]
  },
  {
   "cell_type": "code",
   "execution_count": 2,
   "id": "d36c272a",
   "metadata": {},
   "outputs": [],
   "source": [
    "action_names = ['drink water 1', 'eat meal/snack 2', 'brushing teeth 3', 'brushing hair 4', 'drop 5', 'pickup 6',\n",
    "            'throw 7', 'sitting down 8', 'standing up 9', 'clapping 10', 'reading 11', 'writing 12',\n",
    "            'tear up paper 13', 'wear jacket 14', 'take off jacket 15', 'wear a shoe 16', 'take off a shoe 17',\n",
    "            'wear on glasses 18','take off glasses 19', 'put on a hat/cap 20', 'take off a hat/cap 21', 'cheer up 22',\n",
    "            'hand waving 23', 'kicking something 24', 'put/take out sth 25', 'hopping 26', 'jump up 27',\n",
    "            'make a phone call 28', 'playing with a phone 29', 'typing on a keyboard 30',\n",
    "            'pointing to sth with finger 31', 'taking a selfie 32', 'check time (from watch) 33',\n",
    "            'rub two hands together 34', 'nod head/bow 35', 'shake head 36', 'wipe face 37', 'salute 38',\n",
    "            'put the palms together 39', 'cross hands in front 40', 'sneeze/cough 41', 'staggering 42', 'falling 43',\n",
    "            'touch head 44', 'touch chest 45', 'touch back 46', 'touch neck 47', 'nausea or vomiting condition 48',\n",
    "            'use a fan 49', 'punching 50', 'kicking other person 51', 'pushing other person 52',\n",
    "            'pat on back of other person 53', 'point finger at the other person 54', 'hugging other person 55',\n",
    "            'giving sth to other person 56', 'touch other person pocket 57', 'handshaking 58',\n",
    "            'walking towards each other 59', 'walking apart from each other 60']\n",
    "max_frame = 300\n",
    "max_body = 2\n",
    "max_joint = 25"
   ]
  },
  {
   "cell_type": "markdown",
   "id": "d8b7fd0c",
   "metadata": {},
   "source": [
    "### 读取数据"
   ]
  },
  {
   "cell_type": "markdown",
   "id": "03fb070a",
   "metadata": {},
   "source": [
    "#### 1.读取skeleton文件"
   ]
  },
  {
   "cell_type": "code",
   "execution_count": 3,
   "id": "ebdfcf65",
   "metadata": {},
   "outputs": [],
   "source": [
    "def read_skeleton(file):\n",
    "    with open(file, 'r') as f:\n",
    "        skeleton_sequence = {}\n",
    "        skeleton_sequence['numFrame'] = int(f.readline())\n",
    "        skeleton_sequence['frameInfo'] = []\n",
    "        for t in range(skeleton_sequence['numFrame']):\n",
    "            frame_info = {}\n",
    "            frame_info['numBody'] = int(f.readline())\n",
    "            frame_info['bodyInfo'] = []\n",
    "            for m in range(frame_info['numBody']):\n",
    "                body_info = {}\n",
    "                body_info_key = [\n",
    "                    'bodyID', 'clipedEdges', 'handLeftConfidence',\n",
    "                    'handLeftState', 'handRightConfidence', 'handRightState',\n",
    "                    'isResticted', 'leanX', 'leanY', 'trackingState'\n",
    "                ]\n",
    "                body_info = {\n",
    "                    k: float(v)\n",
    "                    for k, v in zip(body_info_key, f.readline().split())\n",
    "                }\n",
    "                body_info['numJoint'] = int(f.readline())\n",
    "                body_info['jointInfo'] = []\n",
    "                for v in range(body_info['numJoint']):\n",
    "                    joint_info_key = [\n",
    "                        'x', 'y', 'z', 'depthX', 'depthY', 'colorX', 'colorY',\n",
    "                        'orientationW', 'orientationX', 'orientationY',\n",
    "                        'orientationZ', 'trackingState'\n",
    "                    ]\n",
    "                    joint_info = {\n",
    "                        k: float(v)\n",
    "                        for k, v in zip(joint_info_key, f.readline().split())\n",
    "                    }\n",
    "                    body_info['jointInfo'].append(joint_info)\n",
    "                frame_info['bodyInfo'].append(body_info)\n",
    "            skeleton_sequence['frameInfo'].append(frame_info)\n",
    "    return skeleton_sequence"
   ]
  },
  {
   "cell_type": "markdown",
   "id": "78bbff86",
   "metadata": {},
   "source": [
    "#### 2.读取60个样本，每个样本归属于一类动作，共60类"
   ]
  },
  {
   "cell_type": "code",
   "execution_count": 6,
   "id": "6fe3d8b1",
   "metadata": {},
   "outputs": [
    {
     "name": "stdout",
     "output_type": "stream",
     "text": [
      "drink water 1\n",
      "eat meal/snack 2\n",
      "brushing teeth 3\n",
      "brushing hair 4\n",
      "drop 5\n",
      "pickup 6\n",
      "throw 7\n",
      "sitting down 8\n",
      "standing up 9\n",
      "clapping 10\n",
      "reading 11\n",
      "writing 12\n",
      "tear up paper 13\n",
      "wear jacket 14\n",
      "take off jacket 15\n",
      "wear a shoe 16\n",
      "take off a shoe 17\n",
      "wear on glasses 18\n",
      "take off glasses 19\n",
      "put on a hat/cap 20\n",
      "take off a hat/cap 21\n",
      "cheer up 22\n",
      "hand waving 23\n",
      "kicking something 24\n",
      "put/take out sth 25\n",
      "hopping 26\n",
      "jump up 27\n",
      "make a phone call 28\n",
      "playing with a phone 29\n",
      "typing on a keyboard 30\n",
      "pointing to sth with finger 31\n",
      "taking a selfie 32\n",
      "check time (from watch) 33\n",
      "rub two hands together 34\n",
      "nod head/bow 35\n",
      "shake head 36\n",
      "wipe face 37\n",
      "salute 38\n",
      "put the palms together 39\n",
      "cross hands in front 40\n",
      "sneeze/cough 41\n",
      "staggering 42\n",
      "falling 43\n",
      "touch head 44\n",
      "touch chest 45\n",
      "touch back 46\n",
      "touch neck 47\n",
      "nausea or vomiting condition 48\n",
      "use a fan 49\n",
      "punching 50\n",
      "kicking other person 51\n",
      "pushing other person 52\n",
      "pat on back of other person 53\n",
      "point finger at the other person 54\n",
      "hugging other person 55\n",
      "giving sth to other person 56\n",
      "touch other person pocket 57\n",
      "handshaking 58\n",
      "walking towards each other 59\n",
      "walking apart from each other 60\n"
     ]
    }
   ],
   "source": [
    "data_file = \"data/c003\"\n",
    "data = np.zeros((60, 3,max_frame, max_joint, max_body))   # 60个不同动作的样本坐标\n",
    "frame_nums = np.zeros((60))\n",
    "for file in os.listdir(data_file):\n",
    "    action_class = int(file[file.find('A')+1:file.find('A')+4])   # 动作编号\n",
    "    action_name = action_names[action_class-1]    # 动作名称\n",
    "    print(action_name)\n",
    "    file_path = os.path.join(data_file, file)    # skeleton文件路径\n",
    "    skeleton_info = read_skeleton(file_path)   # 读取一个skeleton文件信息\n",
    "    frame_nums[action_class-1] = skeleton_info['numFrame']\n",
    "    for n, f in enumerate(skeleton_info['frameInfo']):\n",
    "        for m, b in enumerate(f['bodyInfo']):\n",
    "            for j, v in enumerate(b['jointInfo']):\n",
    "                if m < max_body and j < max_joint:\n",
    "                    data[action_class-1, :, n, j, m] = [v['x'], v['y'], v['z']]\n",
    "                else:\n",
    "                    pass"
   ]
  },
  {
   "cell_type": "code",
   "execution_count": 7,
   "id": "602a9657",
   "metadata": {},
   "outputs": [
    {
     "name": "stdout",
     "output_type": "stream",
     "text": [
      "(60, 3, 300, 25, 2)\n",
      "[ 72.  95.  95. 102.  71.  83.  77.  79.  60.  71. 151. 120. 113. 159.\n",
      " 175. 156. 124.  90.  70.  80.  81.  72.  84.  72.  85. 104.  71. 122.\n",
      " 109. 134.  63.  87.  66.  72.  71.  52. 107.  73.  53.  53.  65. 112.\n",
      "  82.  84. 102.  80.  95.  80.  80.  64.  67.  68.  73.  58.  76.  81.\n",
      " 100.  67. 104.  65.]\n"
     ]
    }
   ],
   "source": [
    "print(data.shape)\n",
    "print(frame_nums)"
   ]
  },
  {
   "cell_type": "markdown",
   "id": "02e6fb87",
   "metadata": {},
   "source": [
    "### 开始绘制骨骼图"
   ]
  },
  {
   "cell_type": "markdown",
   "id": "76127633",
   "metadata": {},
   "source": [
    "#### 1.归一化骨骼"
   ]
  },
  {
   "cell_type": "code",
   "execution_count": 8,
   "id": "26bc9642",
   "metadata": {},
   "outputs": [],
   "source": [
    "def normal_skeleton(data, frame_num):\n",
    "    #  use as center joint\n",
    "    data = np.transpose(data,(3,1,2,0))\n",
    "    data = data[:,0:frame_num,:,:]\n",
    "    center_joint = data[0, :, 0, :]\n",
    "    \n",
    "    center_jointx = np.mean(center_joint[:,0])\n",
    "    center_jointy = np.mean(center_joint[:,1])\n",
    "    center_jointz = np.mean(center_joint[:,2])\n",
    "    center = np.array([center_jointx, center_jointy, center_jointz])\n",
    "    data = data - center\n",
    "    data = np.transpose(data,(3,1,2,0))\n",
    "    return data"
   ]
  },
  {
   "cell_type": "markdown",
   "id": "189138d9",
   "metadata": {},
   "source": [
    "#### 2.旋转操作"
   ]
  },
  {
   "cell_type": "code",
   "execution_count": 9,
   "id": "8fbdd5e3",
   "metadata": {},
   "outputs": [],
   "source": [
    "def rotation(data, angle):\n",
    "    # 旋转数据操作\n",
    "    # ntu沿y轴\n",
    "    rotation_matrix_y = np.array([[math.cos(angle), 0, -math.sin(angle)],\n",
    "                                  [0, 1, 0],\n",
    "                                  [math.sin(angle), 0, math.cos(angle)]])\n",
    "    data = np.dot(rotation_matrix_y,data)\n",
    "    return data"
   ]
  },
  {
   "cell_type": "markdown",
   "id": "81d6ccac",
   "metadata": {},
   "source": [
    "#### 3.绘制旋转骨骼图"
   ]
  },
  {
   "cell_type": "code",
   "execution_count": 38,
   "id": "d36740ba",
   "metadata": {},
   "outputs": [],
   "source": [
    "k_index = 11\n",
    "np.random.seed(202296)\n",
    "skeleton_data = data[k_index]  # 取第k_index个骨骼动作信息\n",
    "# 归一化操作\n",
    "skeleton_data = normal_skeleton(skeleton_data, int(frame_nums[k_index]))\n",
    "C, T, V, M = skeleton_data.shape\n",
    "# 骨骼连接关系\n",
    "connecting_joint = np.array([2,1,21,3,21,5,6,7,21,9,10,11,1,13,14,15,1,17,18,19,2,23,8,25,12])\n",
    "# 绘制画布\n",
    "fig = plt.figure(dpi=300)\n",
    "ax = Axes3D(fig)\n",
    "ax.view_init(0, 0)\n",
    "# 绘制3d骨骼点的每一帧\n",
    "# plt.cla()   # 清除当前画布的axes\n",
    "# ax.set_xlim3d([-0.8,0.8])\n",
    "# ax.set_ylim3d([-0.8,0.8])\n",
    "# ax.set_zlim3d([-0.8,0.8])\n",
    "# 绘制第55帧里的第一个人\n",
    "for f in range(int(frame_nums[k_index])):\n",
    "    plt.cla()   # 清除当前画布的axes\n",
    "    ax.set_xlim3d([-0.8,0.8])\n",
    "    ax.set_ylim3d([-0.8,0.8])\n",
    "    ax.set_zlim3d([-0.8,0.8])\n",
    "    skeleton_data1 = skeleton_data[:,f,:,0]\n",
    "    x = skeleton_data1[0]\n",
    "    y = skeleton_data1[1]\n",
    "    z = skeleton_data1[2]\n",
    "    # skeleton_data_rotation = rotation(skeleton_data, math.pi/3*3)\n",
    "    # x_rotation = skeleton_data_rotation[0]\n",
    "    # y_rotation = skeleton_data_rotation[1]\n",
    "    # z_rotation = skeleton_data_rotation[2]\n",
    "    for v in range(V):\n",
    "        col = (np.random.random(), np.random.random(), np.random.random())\n",
    "        k = connecting_joint[v]-1\n",
    "        ax.plot([z[v],z[k]],[x[v],x[k]],[y[v],y[k]], color=col, marker='o')   # 旋转前\n",
    "    #     ax.plot([z_rotation[v],z_rotation[k]],[x_rotation[v],x_rotation[k]],[y_rotation[v],y_rotation[k]], color=col, marker='o')   # 旋转后\n",
    "#     ax.set_xlabel('X')\n",
    "#     ax.set_ylabel('Y')\n",
    "#     ax.set_zlabel('Z')\n",
    "    ax.set_xticks([])\n",
    "    ax.set_yticks([])\n",
    "    ax.set_zticks([])\n",
    "    ax.axis('off')\n",
    "    plt.savefig(\"pic/writing/{}.png\".format(f),dpi=300)\n",
    "# plt.show()"
   ]
  },
  {
   "cell_type": "markdown",
   "id": "0f3ad24b",
   "metadata": {},
   "source": [
    "#### 4.绘制空间遮挡"
   ]
  },
  {
   "cell_type": "markdown",
   "id": "18a0ef65",
   "metadata": {},
   "source": [
    "###### 4.1 对单一样本进行旋转操作"
   ]
  },
  {
   "cell_type": "code",
   "execution_count": 8,
   "id": "355fb0d7",
   "metadata": {},
   "outputs": [],
   "source": [
    "def rotation_xyz(data, angle):\n",
    "    # 旋转数据操作\n",
    "    # ntu沿y轴\n",
    "    rotation_matrix_y = np.array([[math.cos(angle), 0, -math.sin(angle)],\n",
    "                                  [0, 1, 0],\n",
    "                                  [math.sin(angle), 0, math.cos(angle)]])\n",
    "    c,j,m = data.shape\n",
    "    data = data.reshape((c,j*m))\n",
    "    data = np.dot(rotation_matrix_y,data)\n",
    "    data = data.reshape((c,j,m))\n",
    "    return data"
   ]
  },
  {
   "cell_type": "markdown",
   "id": "d6a811cc",
   "metadata": {},
   "source": [
    "##### 4.2对旋转后的样本骨骼范围进行测算"
   ]
  },
  {
   "cell_type": "code",
   "execution_count": 9,
   "id": "25ad4746",
   "metadata": {},
   "outputs": [],
   "source": [
    "def skel_boundary(data):\n",
    "    maxX, minX = data[0, :, 0].max(), data[0, :, 0].min()\n",
    "    maxY, minY = data[1, :, 0].max(), data[1, :, 0].min()\n",
    "    return maxX, minX, maxY, minY"
   ]
  },
  {
   "cell_type": "markdown",
   "id": "e810646f",
   "metadata": {},
   "source": [
    "###### 4.3判断是否满足四边形条件"
   ]
  },
  {
   "cell_type": "code",
   "execution_count": 10,
   "id": "dfa9f41a",
   "metadata": {},
   "outputs": [],
   "source": [
    "def judge_quadrilateral(coordinate, occ1, occ2):\n",
    "    world_coordinate = np.array(coordinate)\n",
    "    # 遮挡操作\n",
    "    occ1_maxX, occ1_minX, occ1_maxY, occ1_minY = occ1\n",
    "    occ2_maxX, occ2_minX, occ2_maxY, occ2_minY = occ2\n",
    "    occ1_vertex_a = np.array([occ1_minX, occ1_maxY, 2.6])\n",
    "    occ1_vertex_b = np.array([occ1_maxX, occ1_maxY, 2.6])\n",
    "    occ1_vertex_c = np.array([occ1_maxX, occ1_minY, 2.6])\n",
    "    occ1_vertex_d = np.array([occ1_minX, occ1_minY, 2.6])\n",
    "    z1 = np.dot((occ1_vertex_b - occ1_vertex_a), (world_coordinate - occ1_vertex_a))\n",
    "    z2 = np.dot((occ1_vertex_c - occ1_vertex_b), (world_coordinate - occ1_vertex_b))\n",
    "    z3 = np.dot((occ1_vertex_d - occ1_vertex_c), (world_coordinate - occ1_vertex_c))\n",
    "    z4 = np.dot((occ1_vertex_a - occ1_vertex_d), (world_coordinate - occ1_vertex_d))\n",
    "\n",
    "    occ2_vertex_a = np.array([occ2_minX, occ2_maxY, 2.6])\n",
    "    occ2_vertex_b = np.array([occ2_maxX, occ2_maxY, 2.6])\n",
    "    occ2_vertex_c = np.array([occ2_maxX, occ2_minY, 2.6])\n",
    "    occ2_vertex_d = np.array([occ2_minX, occ2_minY, 2.6])\n",
    "    z5 = np.dot((occ2_vertex_b - occ2_vertex_a), (world_coordinate - occ2_vertex_a))\n",
    "    z6 = np.dot((occ2_vertex_c - occ2_vertex_b), (world_coordinate - occ2_vertex_b))\n",
    "    z7 = np.dot((occ2_vertex_d - occ2_vertex_c), (world_coordinate - occ2_vertex_c))\n",
    "    z8 = np.dot((occ2_vertex_a - occ2_vertex_d), (world_coordinate - occ2_vertex_d))\n",
    "    is_positive1 = (z1 * z2 > 0) and (z3 * z4 > 0) and (z1 * z3 > 0)\n",
    "    is_positive2 = (z5 * z6 > 0) and (z7 * z8 > 0) and (z5 * z7 > 0)\n",
    "    if is_positive1 or is_positive2:\n",
    "        image_coordinate = np.array([0, 0, 0])\n",
    "    else:\n",
    "        image_coordinate = world_coordinate\n",
    "    return image_coordinate"
   ]
  },
  {
   "cell_type": "markdown",
   "id": "6df3a8e9",
   "metadata": {},
   "source": [
    "##### 4.4 进行遮挡操作"
   ]
  },
  {
   "cell_type": "code",
   "execution_count": 11,
   "id": "bce36754",
   "metadata": {},
   "outputs": [],
   "source": [
    "def occlusion(data, angles):\n",
    "    # 沿y轴旋转\n",
    "    data_left = rotation_xyz(data, angles[0])\n",
    "    data_right = rotation_xyz(data, angles[1])\n",
    "    # 寻找三个视角骨骼的边界范围\n",
    "    maxX1, minX1, maxY1, minY1 = skel_boundary(data_left)\n",
    "    maxX2, minX2, maxY2, minY2 = skel_boundary(data)\n",
    "    maxX3, minX3, maxY3, minY3 = skel_boundary(data_right)\n",
    "    # 左边视角取骨骼右半部分1/2,中间视角取骨骼左半部分1/3，右半部分1/3,右边视角取骨骼左半部分1/2\n",
    "    occ1_minX, occ1_maxX = maxX1 - (maxX1 - minX1) / 2, minX2 + (maxX2 - minX2) /3\n",
    "    occ1_minY, occ1_maxY = min(minY1, minY2), max(maxY1, maxY2)\n",
    "    occ2_minX, occ2_maxX = maxX2 - (maxX2 - minX2) /3, minX3 + (maxX3 - minX3) / 2\n",
    "    occ2_minY, occ2_maxY = min(minY2, minY3), max(maxY2, maxY3)\n",
    "    occ1 = (occ1_maxX, occ1_minX, occ1_maxY, occ1_minY)\n",
    "    occ2 = (occ2_maxX, occ2_minX, occ2_maxY, occ2_minY)\n",
    "    # 将遮挡范围内的骨骼点置为0\n",
    "    for m in range(2):\n",
    "        for j in range(25):\n",
    "            data_left[:,j,m] = judge_quadrilateral(data_left[:,j,m], occ1, occ2)\n",
    "            data[:, j, m] = judge_quadrilateral(data[:, j, m], occ1, occ2)\n",
    "            data_right[:, j, m] = judge_quadrilateral(data_right[:, j, m], occ1, occ2)\n",
    "    return (data_left, data, data_right),(occ1,occ2)"
   ]
  },
  {
   "cell_type": "markdown",
   "id": "51450612",
   "metadata": {},
   "source": [
    "##### 4.5 处理数据"
   ]
  },
  {
   "cell_type": "code",
   "execution_count": 12,
   "id": "3dcc172b",
   "metadata": {},
   "outputs": [],
   "source": [
    "class_index = 8\n",
    "angles = [-math.pi/4,math.pi/4]\n",
    "skeleton = data[class_index]\n",
    "# 构建当前文件的遮挡骨骼坐标\n",
    "skeleton_data = np.zeros((3,int(frame_nums[class_index]),25,2))\n",
    "skeleton_data_left = np.zeros((3,int(frame_nums[class_index]),25,2))\n",
    "skeleton_data_right = np.zeros((3,int(frame_nums[class_index]),25,2))\n",
    "# 两个遮挡区域\n",
    "occ_area = np.zeros((2,300,4))\n",
    "for t in range(int(frame_nums[class_index])):\n",
    "    data_coordinate, occ = occlusion(skeleton[:,t,:,:], angles)\n",
    "    frame_data_left, frame_data, frame_data_right = data_coordinate\n",
    "    skeleton_data_left[:,t,:,:] = frame_data_left\n",
    "    skeleton_data_right[:,t,:,:] = frame_data_right\n",
    "    skeleton_data[:,t,:,:] = frame_data\n",
    "    occ_area[:,t,:] = occ"
   ]
  },
  {
   "cell_type": "markdown",
   "id": "525f69dc",
   "metadata": {},
   "source": [
    "##### 4.6绘制遮挡区域"
   ]
  },
  {
   "cell_type": "code",
   "execution_count": 13,
   "id": "3de7d305",
   "metadata": {},
   "outputs": [
    {
     "name": "stderr",
     "output_type": "stream",
     "text": [
      "C:\\Users\\admin\\AppData\\Local\\Temp/ipykernel_14184/3717162589.py:8: MatplotlibDeprecationWarning: Axes3D(fig) adding itself to the figure is deprecated since 3.4. Pass the keyword argument auto_add_to_figure=False and use fig.add_axes(ax) to suppress this warning. The default value of auto_add_to_figure will change to False in mpl3.5 and True values will no longer work in 3.6.  This is consistent with other Axes classes.\n",
      "  ax = Axes3D(fig)\n"
     ]
    },
    {
     "name": "stdout",
     "output_type": "stream",
     "text": [
      "occ1_x: [[ 0.0757947   2.32079365  1.050069   -0.5660943 ]\n",
      " [-2.06137435  0.24739305  1.050069   -0.5660943 ]]\n",
      "occ1_x.shape: []\n",
      "skeleton_data: [[ 0.         0.         0.         0.2119002  0.         0.\n",
      "   0.         0.         0.         0.         0.         0.\n",
      "   0.         0.         0.         0.         0.         0.\n",
      "   0.         0.3526803  0.         0.         0.         0.\n",
      "   0.       ]\n",
      " [ 0.         0.         0.         1.050069   0.         0.\n",
      "   0.         0.         0.         0.         0.         0.\n",
      "   0.         0.         0.         0.         0.         0.\n",
      "   0.        -0.5660943  0.         0.         0.         0.\n",
      "   0.       ]\n",
      " [ 0.         0.         0.         3.023713   0.         0.\n",
      "   0.         0.         0.         0.         0.         0.\n",
      "   0.         0.         0.         0.         0.         0.\n",
      "   0.         3.18162    0.         0.         0.         0.\n",
      "   0.       ]]\n",
      "skeleton_data_left: [[ 2.33653451  0.          0.          2.28792404  0.          0.\n",
      "   0.          0.          2.39604519  2.45520655  2.42194128  2.39015379\n",
      "   0.          0.          2.38487317  2.33551803  2.35986607  2.41462187\n",
      "   2.53160816  2.49912771  0.          0.          0.          2.39023397\n",
      "   2.38635733]\n",
      " [ 0.2529277   0.          0.          1.050069    0.          0.\n",
      "   0.          0.          0.7444035   0.5040904   0.2778215   0.1960308\n",
      "   0.          0.         -0.4694576  -0.5580351   0.2477904  -0.1172182\n",
      "  -0.4833925  -0.5660943   0.          0.          0.          0.1179584\n",
      "   0.1713485 ]\n",
      " [ 2.07033172  0.          0.          1.9882519   0.          0.\n",
      "   0.          0.          1.86289573  1.86266323  1.86051801  1.8726946\n",
      "   0.          0.          2.28251383  2.25408157  1.98153339  1.97012465\n",
      "   2.04434286  2.00036245  0.          0.          0.          1.86037439\n",
      "   1.84023486]]\n",
      "skeleton_data_right: [[-2.07033172  0.          0.         -1.9882519  -2.13578834 -2.22008623\n",
      "  -2.23731997 -2.24188269  0.          0.          0.          0.\n",
      "  -2.10354403 -2.19198741 -2.28251383 -2.25408157  0.          0.\n",
      "   0.         -2.00036245  0.         -2.24621495 -2.19823488  0.\n",
      "   0.        ]\n",
      " [ 0.2529277   0.          0.          1.050069    0.756906    0.5001199\n",
      "   0.2756445   0.2089068   0.          0.          0.          0.\n",
      "   0.2513008  -0.1079867  -0.4694576  -0.5580351   0.          0.\n",
      "   0.         -0.5660943   0.          0.1280477   0.2321996   0.\n",
      "   0.        ]\n",
      " [ 2.33653451  0.          0.          2.28792404  2.1563173   2.14863867\n",
      "   2.11439336  2.10997913  0.          0.          0.          0.\n",
      "   2.25022414  2.28419791  2.38487317  2.33551803  0.          0.\n",
      "   0.          2.49912771  0.          2.11072813  2.14693629  0.\n",
      "   0.        ]]\n"
     ]
    }
   ],
   "source": [
    "np.random.seed(202296)\n",
    "# 归一化操作\n",
    "# skeleton_data = normal_skeleton(skeleton_data, int(frame_nums[k_index]))\n",
    "# 骨骼连接关系\n",
    "connecting_joint = np.array([2,1,21,3,21,5,6,7,21,9,10,11,1,13,14,15,1,17,18,19,2,23,8,25,12])\n",
    "# 绘制画布\n",
    "fig = plt.figure()\n",
    "ax = Axes3D(fig)\n",
    "# ax.view_init(30, 45)\n",
    "# 绘制3d骨骼点的每一帧\n",
    "plt.cla()   # 清除当前画布的axes\n",
    "# ax.set_xlim3d([-0.8,0.8])\n",
    "# ax.set_ylim3d([-0.8,0.8])\n",
    "# ax.set_zlim3d([-0.8,0.8])\n",
    "\n",
    "\n",
    "# 绘制遮挡区域\n",
    "occ1_x = np.arange(occ_area[0,55,1],occ_area[0,55,0],0.1)\n",
    "print(\"occ1_x:\",occ_area[:,55,:])\n",
    "occ1_y = np.arange(occ_area[0,55,3],occ_area[0,55,2],0.1)\n",
    "occ1_x, occ1_y = np.meshgrid(occ1_x, occ1_y)\n",
    "print(\"occ1_x.shape:\",occ1_x)\n",
    "# ax.plot_surface()\n",
    "# plt.Rectangle((occ_area[0,55,1], occ_area[0,55,2]), occ_area[0,55,0]-occ_area[0,55,1], occ_area[0,55,2]-occ_area[0,55,3], \n",
    "#               fill=True, edgecolor = 'red',linewidth=1)\n",
    "\n",
    "\n",
    "# 绘制第55帧里的第一个人\n",
    "# 原骨骼数据\n",
    "skeleton_data = skeleton_data[:,55,:,0]\n",
    "x = skeleton_data[0]\n",
    "y = skeleton_data[1]\n",
    "z = skeleton_data[2]\n",
    "# 左边骨骼数据\n",
    "skeleton_data_left = skeleton_data_left[:,55,:,0]\n",
    "x_left = skeleton_data_left[0]\n",
    "y_left = skeleton_data_left[1]\n",
    "z_left = skeleton_data_left[2]\n",
    "# 右边骨骼数据\n",
    "skeleton_data_right = skeleton_data_right[:,55,:,0]\n",
    "x_right = skeleton_data_right[0]\n",
    "y_right = skeleton_data_right[1]\n",
    "z_right = skeleton_data_right[2]\n",
    "print(\"skeleton_data:\",skeleton_data)\n",
    "print(\"skeleton_data_left:\",skeleton_data_left)\n",
    "print(\"skeleton_data_right:\",skeleton_data_right)\n",
    "# skeleton_data_rotation = rotation(skeleton_data, math.pi/3*3)\n",
    "# x_rotation = skeleton_data_rotation[0]\n",
    "# y_rotation = skeleton_data_rotation[1]\n",
    "# z_rotation = skeleton_data_rotation[2]\n",
    "for v in range(25):\n",
    "    col = (np.random.random(), np.random.random(), np.random.random())\n",
    "    k = connecting_joint[v]-1\n",
    "    ax.plot([z[v],z[k]],[x[v],x[k]],[y[v],y[k]], color=col, marker='o')   # 原骨骼\n",
    "    ax.plot([z_left[v],z_left[k]],[x_left[v],x_left[k]],[y_left[v],y_left[k]], color=col, marker='o')   # 左侧骨骼\n",
    "    ax.plot([z_right[v],z_right[k]],[x_right[v],x_right[k]],[y_right[v],y_right[k]], color=col, marker='o')   # 右侧骨骼\n",
    "ax.set_xlabel('z')\n",
    "ax.set_ylabel('x')\n",
    "ax.set_zlabel('y')\n",
    "# ax.set_xticks([])\n",
    "# ax.set_yticks([])\n",
    "# ax.set_zticks([])\n",
    "ax.axis('on')\n",
    "# plt.savefig(\"pic/rotation180Class9.svg\",dpi=300)\n",
    "plt.show(block=True)"
   ]
  },
  {
   "cell_type": "code",
   "execution_count": null,
   "id": "c96f6cf0",
   "metadata": {},
   "outputs": [],
   "source": []
  }
 ],
 "metadata": {
  "kernelspec": {
   "display_name": "Python 3",
   "language": "python",
   "name": "python3"
  },
  "language_info": {
   "codemirror_mode": {
    "name": "ipython",
    "version": 3
   },
   "file_extension": ".py",
   "mimetype": "text/x-python",
   "name": "python",
   "nbconvert_exporter": "python",
   "pygments_lexer": "ipython3",
   "version": "3.5.6"
  }
 },
 "nbformat": 4,
 "nbformat_minor": 5
}
