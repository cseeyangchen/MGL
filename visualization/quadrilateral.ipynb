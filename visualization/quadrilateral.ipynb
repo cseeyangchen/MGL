{
 "cells": [
  {
   "cell_type": "code",
   "execution_count": 2,
   "id": "62825bd7",
   "metadata": {},
   "outputs": [
    {
     "name": "stdout",
     "output_type": "stream",
     "text": [
      "Using matplotlib backend: <object object at 0x0000020A64C48BA0>\n"
     ]
    }
   ],
   "source": [
    "%matplotlib auto\n",
    "import matplotlib.pyplot as plt\n",
    "import numpy as np\n",
    "import seaborn as sns\n",
    "import os\n",
    "import math\n",
    "from mpl_toolkits.mplot3d import Axes3D"
   ]
  },
  {
   "cell_type": "markdown",
   "id": "73225758",
   "metadata": {},
   "source": [
    "### 绘制四边形"
   ]
  },
  {
   "cell_type": "code",
   "execution_count": 27,
   "id": "23dda36e",
   "metadata": {},
   "outputs": [
    {
     "name": "stderr",
     "output_type": "stream",
     "text": [
      "C:\\Users\\admin\\AppData\\Local\\Temp/ipykernel_22208/4238041095.py:4: MatplotlibDeprecationWarning: Axes3D(fig) adding itself to the figure is deprecated since 3.4. Pass the keyword argument auto_add_to_figure=False and use fig.add_axes(ax) to suppress this warning. The default value of auto_add_to_figure will change to False in mpl3.5 and True values will no longer work in 3.6.  This is consistent with other Axes classes.\n",
      "  ax = Axes3D(fig)\n",
      "C:\\Users\\admin\\AppData\\Local\\Temp/ipykernel_22208/4238041095.py:43: MatplotlibDeprecationWarning: savefig() got unexpected keyword argument \"block\" which is no longer supported as of 3.3 and will become an error in 3.6\n",
      "  plt.savefig(\"pic/quadrilateralOff.svg\",dpi=300,block=True)\n"
     ]
    }
   ],
   "source": [
    "np.random.seed(202296)\n",
    "# 绘制画布\n",
    "fig = plt.figure()\n",
    "ax = Axes3D(fig)\n",
    "ax.view_init(15, -100)\n",
    "plt.cla()   # 清除当前画布的axes\n",
    "# ax.set_xlim3d([0,5])\n",
    "# ax.set_ylim3d([-1.2,1.8])\n",
    "# ax.set_zlim3d([-0.7,1.2])\n",
    "\n",
    "# 绘制遮挡区域\n",
    "occ1_x = np.arange(-1,1,0.05)\n",
    "occ1_y = np.arange(-1,1,0.05)\n",
    "occ1_x, occ1_y = np.meshgrid(occ1_x, occ1_y)\n",
    "ax.plot_surface(occ1_x,occ1_y,occ1_x*0,color=\"lime\",alpha=0.2)\n",
    "\n",
    "# 绘制五个点坐标\n",
    "x = [-1,1,1,-1,2]  # abcdp\n",
    "y = [1,1,-1,-1,0]\n",
    "z = [0,0,0,0,0.8]\n",
    "ax.scatter(x,y,z,color='b')\n",
    "\n",
    "# 绘制向量\n",
    "for i in range(4):\n",
    "    col = (np.random.random(), np.random.random(), np.random.random())\n",
    "    ax.quiver(x[i],y[i],z[i],x[(i+1)%4]-x[i],y[(i+1)%4]-y[i],z[(i+1)%4]-z[i],arrow_length_ratio=0.05,color=col)  # ab bc cd da\n",
    "for i in range(4):\n",
    "    col = (np.random.random(), np.random.random(), np.random.random())\n",
    "    ax.quiver(x[i],y[i],z[i],x[4]-x[i],y[4]-y[i],z[4]-z[i],arrow_length_ratio=0.05,color=col)  # ab bc cd da\n",
    "# ax.quiver(x[0],y[0],z[0],x[4]-x[0],y[4]-y[0],z[4]-z[0])  # ap\n",
    "# ax.quiver(x[1],y[1],z[1],x[4]-x[1],y[4]-y[1],z[4]-z[1])  # bp\n",
    "# ax.quiver(x[2],y[2],z[2],x[4]-x[2],y[4]-y[2],z[4]-z[2])  # cp\n",
    "# ax.quiver(x[3],y[3],z[3],x[4]-x[3],y[4]-y[3],z[4]-z[3])  # dp\n",
    "\n",
    "\n",
    "ax.set_xlabel('X')\n",
    "ax.set_ylabel('Y')\n",
    "ax.set_zlabel('Z')\n",
    "ax.set_xticks([])\n",
    "ax.set_yticks([])\n",
    "ax.set_zticks([])\n",
    "ax.axis('off')\n",
    "plt.savefig(\"pic/quadrilateralOff.svg\",dpi=300,block=True)\n",
    "# plt.show(block=True)"
   ]
  },
  {
   "cell_type": "code",
   "execution_count": null,
   "id": "cc818c6f",
   "metadata": {},
   "outputs": [],
   "source": []
  }
 ],
 "metadata": {
  "kernelspec": {
   "display_name": "Python 3 (ipykernel)",
   "language": "python",
   "name": "python3"
  },
  "language_info": {
   "codemirror_mode": {
    "name": "ipython",
    "version": 3
   },
   "file_extension": ".py",
   "mimetype": "text/x-python",
   "name": "python",
   "nbconvert_exporter": "python",
   "pygments_lexer": "ipython3",
   "version": "3.8.12"
  }
 },
 "nbformat": 4,
 "nbformat_minor": 5
}
