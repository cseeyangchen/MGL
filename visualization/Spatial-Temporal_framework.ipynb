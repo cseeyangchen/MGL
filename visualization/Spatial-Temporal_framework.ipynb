{
 "cells": [
  {
   "cell_type": "code",
   "execution_count": 1,
   "id": "116ac1d9",
   "metadata": {},
   "outputs": [],
   "source": [
    "%matplotlib inline\n",
    "import matplotlib.pyplot as plt\n",
    "import numpy as np\n",
    "import seaborn as sns\n",
    "import os"
   ]
  },
  {
   "cell_type": "code",
   "execution_count": 9,
   "id": "b87842bb",
   "metadata": {},
   "outputs": [
    {
     "data": {
      "image/png": "[encoded data removed]",
      "text/plain": [
       "<Figure size 432x288 with 1 Axes>"
      ]
     },
     "metadata": {
      "needs_background": "light"
     },
     "output_type": "display_data"
    }
   ],
   "source": [
    "connecting_joint = np.array([2,0,4,0,5,3,2,6,3,8,4,10,5,12])\n",
    "joint_xy = np.array([[0,0.5],\n",
    "                    [-0.2,0.9],\n",
    "                    [-1,0],\n",
    "                    [1,0],\n",
    "                    [-0.5,-1],\n",
    "                    [0.5,-1],\n",
    "                    [-1.5,0.5],\n",
    "                    [-1.8,1],\n",
    "                    [1.5,-0.5],\n",
    "                    [1.8,-1],\n",
    "                    [-0.7,-1.7],\n",
    "                    [-0.9,-2.3],\n",
    "                    [0.3,-1.7],\n",
    "                    [0.1,-2.3]])\n",
    "x = joint_xy[:,0]\n",
    "y = joint_xy[:,1]\n",
    "plt.figure()\n",
    "c = []\n",
    "for v in range(joint_xy.shape[0]):\n",
    "    c.append([1,0,0])\n",
    "    k = connecting_joint[v]\n",
    "    plt.plot([x[v],x[k]],[y[v],y[k]],'-o',c=([0.1,0.1,0.1]),linewidth=0.5, markersize=0)\n",
    "plt.scatter(x, y, marker='o',c=c,s=16)\n",
    "plt.show()"
   ]
  },
  {
   "cell_type": "code",
   "execution_count": null,
   "id": "ec946843",
   "metadata": {},
   "outputs": [],
   "source": []
  }
 ],
 "metadata": {
  "kernelspec": {
   "display_name": "Python [conda env:UEX] *",
   "language": "python",
   "name": "conda-env-UEX-py"
  },
  "language_info": {
   "codemirror_mode": {
    "name": "ipython",
    "version": 3
   },
   "file_extension": ".py",
   "mimetype": "text/x-python",
   "name": "python",
   "nbconvert_exporter": "python",
   "pygments_lexer": "ipython3",
   "version": "3.8.12"
  }
 },
 "nbformat": 4,
 "nbformat_minor": 5
}
