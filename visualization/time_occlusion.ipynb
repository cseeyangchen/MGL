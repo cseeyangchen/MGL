{
 "cells": [
  {
   "cell_type": "code",
   "execution_count": 1,
   "id": "da05e165",
   "metadata": {},
   "outputs": [
    {
     "name": "stdout",
     "output_type": "stream",
     "text": [
      "Using matplotlib backend: <object object at 0x000001A248E4CB60>\n"
     ]
    }
   ],
   "source": [
    "%matplotlib auto\n",
    "import matplotlib.pyplot as plt\n",
    "import numpy as np\n",
    "import seaborn as sns\n",
    "import os\n",
    "import math\n",
    "from mpl_toolkits.mplot3d import Axes3D"
   ]
  },
  {
   "cell_type": "markdown",
   "id": "62a1ba18",
   "metadata": {},
   "source": [
    "### NTU60的动作"
   ]
  },
  {
   "cell_type": "code",
   "execution_count": 2,
   "id": "fb7e4b4d",
   "metadata": {},
   "outputs": [],
   "source": [
    "action_names = ['drink water 1', 'eat meal/snack 2', 'brushing teeth 3', 'brushing hair 4', 'drop 5', 'pickup 6',\n",
    "            'throw 7', 'sitting down 8', 'standing up 9', 'clapping 10', 'reading 11', 'writing 12',\n",
    "            'tear up paper 13', 'wear jacket 14', 'take off jacket 15', 'wear a shoe 16', 'take off a shoe 17',\n",
    "            'wear on glasses 18','take off glasses 19', 'put on a hat/cap 20', 'take off a hat/cap 21', 'cheer up 22',\n",
    "            'hand waving 23', 'kicking something 24', 'put/take out sth 25', 'hopping 26', 'jump up 27',\n",
    "            'make a phone call 28', 'playing with a phone 29', 'typing on a keyboard 30',\n",
    "            'pointing to sth with finger 31', 'taking a selfie 32', 'check time (from watch) 33',\n",
    "            'rub two hands together 34', 'nod head/bow 35', 'shake head 36', 'wipe face 37', 'salute 38',\n",
    "            'put the palms together 39', 'cross hands in front 40', 'sneeze/cough 41', 'staggering 42', 'falling 43',\n",
    "            'touch head 44', 'touch chest 45', 'touch back 46', 'touch neck 47', 'nausea or vomiting condition 48',\n",
    "            'use a fan 49', 'punching 50', 'kicking other person 51', 'pushing other person 52',\n",
    "            'pat on back of other person 53', 'point finger at the other person 54', 'hugging other person 55',\n",
    "            'giving sth to other person 56', 'touch other person pocket 57', 'handshaking 58',\n",
    "            'walking towards each other 59', 'walking apart from each other 60']\n",
    "max_frame = 300\n",
    "max_body = 2\n",
    "max_joint = 25"
   ]
  },
  {
   "cell_type": "markdown",
   "id": "fbcca7cf",
   "metadata": {},
   "source": [
    "### 读取数据"
   ]
  },
  {
   "cell_type": "markdown",
   "id": "a2dcd6f2",
   "metadata": {},
   "source": [
    "#### 1.读取skeleton文件"
   ]
  },
  {
   "cell_type": "code",
   "execution_count": 3,
   "id": "ec7e13c6",
   "metadata": {},
   "outputs": [],
   "source": [
    "def read_skeleton(file):\n",
    "    with open(file, 'r') as f:\n",
    "        skeleton_sequence = {}\n",
    "        skeleton_sequence['numFrame'] = int(f.readline())\n",
    "        skeleton_sequence['frameInfo'] = []\n",
    "        for t in range(skeleton_sequence['numFrame']):\n",
    "            frame_info = {}\n",
    "            frame_info['numBody'] = int(f.readline())\n",
    "            frame_info['bodyInfo'] = []\n",
    "            for m in range(frame_info['numBody']):\n",
    "                body_info = {}\n",
    "                body_info_key = [\n",
    "                    'bodyID', 'clipedEdges', 'handLeftConfidence',\n",
    "                    'handLeftState', 'handRightConfidence', 'handRightState',\n",
    "                    'isResticted', 'leanX', 'leanY', 'trackingState'\n",
    "                ]\n",
    "                body_info = {\n",
    "                    k: float(v)\n",
    "                    for k, v in zip(body_info_key, f.readline().split())\n",
    "                }\n",
    "                body_info['numJoint'] = int(f.readline())\n",
    "                body_info['jointInfo'] = []\n",
    "                for v in range(body_info['numJoint']):\n",
    "                    joint_info_key = [\n",
    "                        'x', 'y', 'z', 'depthX', 'depthY', 'colorX', 'colorY',\n",
    "                        'orientationW', 'orientationX', 'orientationY',\n",
    "                        'orientationZ', 'trackingState'\n",
    "                    ]\n",
    "                    joint_info = {\n",
    "                        k: float(v)\n",
    "                        for k, v in zip(joint_info_key, f.readline().split())\n",
    "                    }\n",
    "                    body_info['jointInfo'].append(joint_info)\n",
    "                frame_info['bodyInfo'].append(body_info)\n",
    "            skeleton_sequence['frameInfo'].append(frame_info)\n",
    "    return skeleton_sequence"
   ]
  },
  {
   "cell_type": "markdown",
   "id": "16d1bb61",
   "metadata": {},
   "source": [
    "#### 2.读取60个样本，每个样本归属于一类动作，共60类"
   ]
  },
  {
   "cell_type": "code",
   "execution_count": 4,
   "id": "22395487",
   "metadata": {},
   "outputs": [],
   "source": [
    "data_file = \"../data/ntu60/c003\"\n",
    "data = np.zeros((60, 3,max_frame, max_joint, max_body))   # 60个不同动作的样本坐标\n",
    "frame_nums = np.zeros((60))\n",
    "for file in os.listdir(data_file):\n",
    "    action_class = int(file[file.find('A')+1:file.find('A')+4])   # 动作编号\n",
    "    action_name = action_names[action_class-1]    # 动作名称\n",
    "    file_path = os.path.join(data_file, file)    # skeleton文件路径\n",
    "    skeleton_info = read_skeleton(file_path)   # 读取一个skeleton文件信息\n",
    "    frame_nums[action_class-1] = skeleton_info['numFrame']\n",
    "    for n, f in enumerate(skeleton_info['frameInfo']):\n",
    "        for m, b in enumerate(f['bodyInfo']):\n",
    "            for j, v in enumerate(b['jointInfo']):\n",
    "                if m < max_body and j < max_joint:\n",
    "                    data[action_class-1, :, n, j, m] = [v['x'], v['y'], v['z']]\n",
    "                else:\n",
    "                    pass"
   ]
  },
  {
   "cell_type": "code",
   "execution_count": 5,
   "id": "3166ffbb",
   "metadata": {},
   "outputs": [
    {
     "name": "stdout",
     "output_type": "stream",
     "text": [
      "(60, 3, 300, 25, 2)\n",
      "[ 98.  93. 121. 130.  60.  83.  59.  70.  59.  64. 105. 118.  84. 128.\n",
      " 186. 125.  99. 161.  84.  88.  85.  81.  59.  66.  90.  99.  60. 106.\n",
      " 114. 142.  52.  84.  71.  77.  80.  71. 105.  87.  73.  53.  74. 101.\n",
      "  76.  80.  84.  98.  82. 128. 106.  59.  68.  63.  88.  62.  55.  68.\n",
      "  91.  71.  87.  76.]\n"
     ]
    }
   ],
   "source": [
    "print(data.shape)\n",
    "print(frame_nums)"
   ]
  },
  {
   "cell_type": "markdown",
   "id": "a852f72c",
   "metadata": {},
   "source": [
    "#### 3.归一化骨骼"
   ]
  },
  {
   "cell_type": "code",
   "execution_count": 6,
   "id": "4074673d",
   "metadata": {},
   "outputs": [],
   "source": [
    "def normal_skeleton(data, frame_num):\n",
    "    #  use as center joint\n",
    "    data = np.transpose(data,(3,1,2,0))\n",
    "    data = data[:,0:frame_num,:,:]\n",
    "    center_joint = data[0, :, 0, :]\n",
    "    \n",
    "    center_jointx = np.mean(center_joint[:,0])\n",
    "    center_jointy = np.mean(center_joint[:,1])\n",
    "    center_jointz = np.mean(center_joint[:,2])\n",
    "    center = np.array([center_jointx, center_jointy, center_jointz])\n",
    "    data = data - center\n",
    "    data = np.transpose(data,(3,1,2,0))\n",
    "    return data"
   ]
  },
  {
   "cell_type": "markdown",
   "id": "84c797d0",
   "metadata": {},
   "source": [
    "#### 4.读取多帧骨骼数据"
   ]
  },
  {
   "cell_type": "code",
   "execution_count": 7,
   "id": "256064c2",
   "metadata": {},
   "outputs": [],
   "source": [
    "k_index = 0\n",
    "t_index = 50\n",
    "skeleton_data = data[k_index]\n",
    "skeleton_data = normal_skeleton(skeleton_data, int(frame_nums[k_index]))"
   ]
  },
  {
   "cell_type": "markdown",
   "id": "955aa829",
   "metadata": {},
   "source": [
    "#### 5.绘制单帧二维平面图"
   ]
  },
  {
   "cell_type": "code",
   "execution_count": 8,
   "id": "df4bb8c1",
   "metadata": {},
   "outputs": [],
   "source": [
    "np.random.seed(202296)\n",
    "# 骨骼连接关系\n",
    "connecting_joint = np.array([2,1,21,3,21,5,6,7,21,9,10,11,1,13,14,15,1,17,18,19,2,23,8,25,12])\n",
    "# 绘制画布\n",
    "plt.figure()\n",
    "\n",
    "# 绘制第t_index帧里的第一个人\n",
    "skeleton_data_xyz = skeleton_data[:,t_index,:,0]\n",
    "# skeleton_data_xyz = occ_skeleton_data[:,t_index,:,0]\n",
    "x = skeleton_data_xyz[0]\n",
    "y = skeleton_data_xyz[1]\n",
    "z = skeleton_data_xyz[2]\n",
    "\n",
    "for v in range(25):\n",
    "    col = (np.random.random(), np.random.random(), np.random.random())\n",
    "    k = connecting_joint[v]-1\n",
    "    plt.plot([x[v],x[k]],[y[v],y[k]], color=col, marker='o')   # 旋转前\n",
    "\n",
    "# ax.set_xticks([])\n",
    "# ax.set_yticks([])\n",
    "# ax.set_zticks([])\n",
    "\n",
    "# plt.savefig(\"pic/rotationOccOff.svg\",dpi=300,block=True)\n",
    "plt.show(block=True)"
   ]
  },
  {
   "cell_type": "markdown",
   "id": "b294ec24",
   "metadata": {},
   "source": [
    "#### 6.构建多帧三维数据"
   ]
  },
  {
   "cell_type": "code",
   "execution_count": 8,
   "id": "4d17bcac",
   "metadata": {},
   "outputs": [],
   "source": [
    "k_index = 0\n",
    "t_start_index = 5   # 起始时间序号\n",
    "temporal_size = 10   # 时序长度\n",
    "time_step = 5\n",
    "skeleton_data = data[k_index]\n",
    "skeleton_data = normal_skeleton(skeleton_data, int(frame_nums[k_index]))\n",
    "# 构建需要画图的数据\n",
    "temporal_data = np.zeros((3,temporal_size,25,2))\n",
    "# 需要丢弃的帧序号\n",
    "miss_index = [2,3,4,8]\n",
    "for t in range(temporal_size):\n",
    "    temporal_data[:,t,:,:] = skeleton_data[:,t_start_index+t*time_step,:,:]\n",
    "    temporal_data[2,t,:,:] = np.zeros((25,2))+t\n",
    "    # 判断是否为需要丢弃的帧\n",
    "    if t in miss_index:\n",
    "        temporal_data[0,t,:,:] = np.zeros((25,2))\n",
    "        temporal_data[1,t,:,:] = np.zeros((25,2))\n",
    "    # 将每帧xy中的y坐标向上提取0.1\n",
    "    temporal_data[1,t,:,:] = temporal_data[1,t,:,:] + 0.05*t"
   ]
  },
  {
   "cell_type": "markdown",
   "id": "1a69e3fa",
   "metadata": {},
   "source": [
    "#### 7.绘制三维时序骨骼图"
   ]
  },
  {
   "cell_type": "code",
   "execution_count": 9,
   "id": "91e4bf11",
   "metadata": {},
   "outputs": [
    {
     "name": "stderr",
     "output_type": "stream",
     "text": [
      "C:\\Users\\admin\\AppData\\Local\\Temp/ipykernel_968/250630379.py:6: MatplotlibDeprecationWarning: Axes3D(fig) adding itself to the figure is deprecated since 3.4. Pass the keyword argument auto_add_to_figure=False and use fig.add_axes(ax) to suppress this warning. The default value of auto_add_to_figure will change to False in mpl3.5 and True values will no longer work in 3.6.  This is consistent with other Axes classes.\n",
      "  ax = Axes3D(fig)\n"
     ]
    }
   ],
   "source": [
    "# np.random.seed(202296)\n",
    "# 骨骼连接关系\n",
    "connecting_joint = np.array([2,1,21,3,21,5,6,7,21,9,10,11,1,13,14,15,1,17,18,19,2,23,8,25,12])\n",
    "# 绘制画布\n",
    "fig = plt.figure()\n",
    "ax = Axes3D(fig)\n",
    "ax.view_init(10, -115)\n",
    "# 绘制3d骨骼点的每一帧\n",
    "plt.cla()   # 清除当前画布的axes\n",
    "# ax.set_xlim3d([0,5])\n",
    "# ax.set_ylim3d([-1.2,1.8])\n",
    "# ax.set_zlim3d([-0.7,1.2])\n",
    "\n",
    "\n",
    "# 统计所有帧里最大最小坐标进行画框\n",
    "boundx_min = []\n",
    "boundx_max = []\n",
    "boundy_min = []\n",
    "boundy_max = []\n",
    "\n",
    "\n",
    "# 绘制第t_index帧里的第一个人\n",
    "for t_index in range(temporal_size):\n",
    "    skeleton_data_xyt = temporal_data[:,t_index,:,0]\n",
    "    # skeleton_data_xyz = occ_skeleton_data[:,t_index,:,0]\n",
    "    x = skeleton_data_xyt[0]\n",
    "    y = skeleton_data_xyt[1]\n",
    "    t = skeleton_data_xyt[2]\n",
    "    \n",
    "    # 绘制时间遮挡矩形框\n",
    "    boundx_min.append(x.min()-0.1)\n",
    "    boundx_max.append(x.max()+0.1)\n",
    "    boundy_min.append(y.min()-0.1-t_index*0.05)\n",
    "    boundy_max.append(y.max()+0.1-t_index*0.05)\n",
    "\n",
    "    np.random.seed(202296)\n",
    "    for v in range(25):\n",
    "        col = (np.random.random(), np.random.random(), np.random.random())\n",
    "        k = connecting_joint[v]-1\n",
    "        ax.plot([t[v],t[k]],[x[v],x[k]],[y[v],y[k]], color=col, marker='o')   # 旋转前\n",
    "        \n",
    "# 绘制矩形边界框\n",
    "x_min = np.array(boundx_min).min()\n",
    "x_max = np.array(boundx_max).max()\n",
    "y_min = np.array(boundy_min).min()\n",
    "y_max = np.array(boundy_max).max()\n",
    "# for t_index in [2,3,4,8]:\n",
    "#     ax.plot([t_index,t_index],[x_min,x_max],[y_max+ 0.05*t_index,y_max+ 0.05*t_index],color='silver')\n",
    "#     ax.plot([t_index,t_index],[x_max,x_max],[y_max+ 0.05*t_index,y_min+ 0.05*t_index],color='silver')\n",
    "#     ax.plot([t_index,t_index],[x_max,x_min],[y_min+ 0.05*t_index,y_min+ 0.05*t_index],color='silver')\n",
    "#     ax.plot([t_index,t_index],[x_min,x_min],[y_min+ 0.05*t_index,y_max+ 0.05*t_index],color='silver')\n",
    "    \n",
    "# 绘制立方体cube\n",
    "miss_frame_list = [[2,3,4],[8]]\n",
    "for cube_idx in range(len(miss_frame_list)):\n",
    "    cubex_start = x_min\n",
    "    cubex_end = x_max\n",
    "    cubey_start = y_min+0.05*miss_frame_list[cube_idx][-1]\n",
    "    cubey_end = y_max+0.05*miss_frame_list[cube_idx][0]\n",
    "    for i in miss_frame_list[cube_idx]:\n",
    "        cubet_start = i-0.5\n",
    "        cubet_end = i+0.5\n",
    "        # 开始绘图\n",
    "        cubex = np.arange(cubex_start, cubex_end, 0.05)\n",
    "        cubey = np.arange(cubey_start, cubey_end, 0.05)\n",
    "        cubet = np.arange(cubet_start, cubet_end, 0.05)\n",
    "        \n",
    "        cubex, cubey = np.meshgrid(cubex, cubey)\n",
    "        ax.plot_surface(np.full_like(cubex, cubet_start),cubex, cubey,color=\"lime\",alpha=0.2)\n",
    "        ax.plot_surface(np.full_like(cubex, cubet_end),cubex, cubey,color=\"lime\",alpha=0.2)\n",
    "        \n",
    "        cubet, cubey = np.meshgrid(cubet, cubey)\n",
    "        ax.plot_surface(cubet,np.full_like(cubet, cubex_start), cubey,color=\"lime\",alpha=0.2)\n",
    "        ax.plot_surface(cubet,np.full_like(cubet, cubex_end), cubey,color=\"lime\",alpha=0.2)\n",
    "        \n",
    "        cubet, cubex = np.meshgrid(cubet, cubex)\n",
    "        ax.plot_surface(cubet,cubex,np.full_like(cubet, cubey_start),color=\"lime\",alpha=0.2)\n",
    "        ax.plot_surface(cubet,cubex,np.full_like(cubet, cubey_end),color=\"lime\",alpha=0.2)\n",
    "    \n",
    "    \n",
    "\n",
    "ax.set_xlabel('T')\n",
    "ax.set_ylabel('X')\n",
    "ax.set_zlabel('Y')\n",
    "ax.set_xticks([])\n",
    "ax.set_yticks([])\n",
    "ax.set_zticks([])\n",
    "ax.axis('off')\n",
    "# plt.savefig(\"pic/temporal_occ_box.svg\",dpi=300,block=True)\n",
    "plt.show(block=True)"
   ]
  },
  {
   "cell_type": "code",
   "execution_count": null,
   "id": "cc7897b6",
   "metadata": {},
   "outputs": [],
   "source": []
  }
 ],
 "metadata": {
  "kernelspec": {
   "display_name": "Python [conda env:UEX] *",
   "language": "python",
   "name": "conda-env-UEX-py"
  },
  "language_info": {
   "codemirror_mode": {
    "name": "ipython",
    "version": 3
   },
   "file_extension": ".py",
   "mimetype": "text/x-python",
   "name": "python",
   "nbconvert_exporter": "python",
   "pygments_lexer": "ipython3",
   "version": "3.8.12"
  }
 },
 "nbformat": 4,
 "nbformat_minor": 5
}
