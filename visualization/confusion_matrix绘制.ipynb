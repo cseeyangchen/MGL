{
 "cells": [
  {
   "cell_type": "code",
   "execution_count": 4,
   "metadata": {},
   "outputs": [
    {
     "name": "stdout",
     "output_type": "stream",
     "text": [
      "Using matplotlib backend: TkAgg\n"
     ]
    }
   ],
   "source": [
    "%matplotlib auto\n",
    "import matplotlib.pyplot as plt\n",
    "import numpy as np\n",
    "import seaborn as sns\n",
    "import os\n",
    "from sklearn.metrics import confusion_matrix\n",
    "import sys \n",
    "sys.path.append(\"..\") \n",
    "from feeder.feeder_fusion import Feeder, MultiDataset\n",
    "import torch\n",
    "from net.MultiView import MCL_model\n",
    "from collections import OrderedDict"
   ]
  },
  {
   "cell_type": "markdown",
   "metadata": {},
   "source": [
    "# 1.读取NTU60数据"
   ]
  },
  {
   "cell_type": "code",
   "execution_count": 5,
   "metadata": {},
   "outputs": [],
   "source": [
    "action_names = ['drink water', 'eat meal/snack', 'brushing teeth', 'brushing hair', 'drop', 'pickup',\n",
    "            'throw', 'sitting down', 'standing up', 'clapping', 'reading', 'writing',\n",
    "            'tear up paper', 'wear jacket', 'take off jacket', 'wear a shoe', 'take off a shoe',\n",
    "            'wear on glasses','take off glasses', 'put on a hat/cap', 'take off a hat/cap', 'cheer up',\n",
    "            'hand waving', 'kicking something', 'put/take out sth', 'hopping', 'jump up',\n",
    "            'make a phone call', 'playing with a phone', 'typing on a keyboard',\n",
    "            'pointing to sth with finger', 'taking a selfie', 'check time (from watch)',\n",
    "            'rub two hands together', 'nod head/bow', 'shake head', 'wipe face', 'salute',\n",
    "            'put the palms together', 'cross hands in front', 'sneeze/cough', 'staggering', 'falling',\n",
    "            'touch head', 'touch chest', 'touch back', 'touch neck', 'nausea or vomiting condition',\n",
    "            'use a fan', 'punching', 'kicking other person', 'pushing other person',\n",
    "            'pat on back of other person', 'point finger at the other person', 'hugging other person',\n",
    "            'giving sth to other person', 'touch other person pocket', 'handshaking',\n",
    "            'walking towards each other', 'walking apart from each other']\n",
    "max_frame = 300\n",
    "max_body = 2\n",
    "max_joint = 25"
   ]
  },
  {
   "cell_type": "code",
   "execution_count": 6,
   "metadata": {},
   "outputs": [],
   "source": [
    "folderpath = \"../data/test/xsub/val\"\n",
    "view1_data_path = os.path.join(folderpath,\"val_view1_data.npy\")\n",
    "view1_label_path = os.path.join(folderpath, \"val_view1_label.pkl\")\n",
    "view2_data_path = os.path.join(folderpath,\"val_view2_data.npy\")\n",
    "view2_label_path = os.path.join(folderpath, \"val_view2_label.pkl\")\n",
    "view3_data_path = os.path.join(folderpath,\"val_view3_data.npy\")\n",
    "view3_label_path = os.path.join(folderpath, \"val_view3_label.pkl\")"
   ]
  },
  {
   "cell_type": "code",
   "execution_count": 7,
   "metadata": {},
   "outputs": [],
   "source": [
    "data_loader = dict()\n",
    "test_view1 = Feeder(data_path=view1_data_path, label_path=view1_label_path, debug=False)\n",
    "test_view2 = Feeder(data_path=view2_data_path, label_path=view2_label_path, debug=False)\n",
    "test_view3 = Feeder(data_path=view3_data_path, label_path=view3_label_path, debug=False)\n",
    "multi_test = MultiDataset(test_view1, test_view2, test_view3)\n",
    "data_loader[\"test\"] = torch.utils.data.DataLoader(\n",
    "    dataset=multi_test,\n",
    "    batch_size=16,\n",
    "    shuffle=True,\n",
    "    num_workers=0\n",
    ")"
   ]
  },
  {
   "cell_type": "markdown",
   "metadata": {},
   "source": [
    "# 2.加载MGL模型"
   ]
  },
  {
   "cell_type": "code",
   "execution_count": 8,
   "metadata": {},
   "outputs": [
    {
     "data": {
      "text/plain": [
       "<All keys matched successfully>"
      ]
     },
     "execution_count": 8,
     "metadata": {},
     "output_type": "execute_result"
    }
   ],
   "source": [
    "state_dict_path = \"Epoch32_MCL_model.pt\"\n",
    "model = MCL_model.MCL(in_channels=3,num_class=60,device_id=0,edge_importance_weighting=True,graph_args={'layout': 'ntu-rgb+d', 'strategy': 'spatial'})\n",
    "weights = torch.load(state_dict_path)\n",
    "weights = OrderedDict([[k.split('module.')[-1],v.cpu()] for k, v in weights.items()])\n",
    "model.load_state_dict(weights)"
   ]
  },
  {
   "cell_type": "markdown",
   "metadata": {},
   "source": [
    "# 3.进行推理，得到预测结果"
   ]
  },
  {
   "cell_type": "code",
   "execution_count": 9,
   "metadata": {},
   "outputs": [],
   "source": [
    "device = torch.device(\"cuda:0\" if torch.cuda.is_available() else \"cpu\")\n",
    "model.to(device)\n",
    "result_frag = []\n",
    "label_frag = []\n",
    "for batch_index, batch_data in enumerate(data_loader[\"test\"]):\n",
    "    view1, view2, view3 = batch_data[0], batch_data[1], batch_data[2]\n",
    "    view1_data = view1[0].float().to(device)\n",
    "    view1_label = view1[1].float().to(device)\n",
    "    view2_data = view2[0].float().to(device)\n",
    "    view2_label = view2[1].float().to(device)\n",
    "    view3_data = view3[0].float().to(device)\n",
    "    view3_label = view3[1].float().to(device)\n",
    "    with torch.no_grad():\n",
    "        _, output = model(view1_data, view2_data, view3_data)\n",
    "    # 记录test过程中的结果\n",
    "    result_frag.append(output.data.cpu().numpy())\n",
    "    label_frag.append(view1_label.data.cpu().numpy())"
   ]
  },
  {
   "cell_type": "code",
   "execution_count": 10,
   "metadata": {},
   "outputs": [
    {
     "name": "stdout",
     "output_type": "stream",
     "text": [
      "准确率Top1： 0.7983193277310925\n"
     ]
    }
   ],
   "source": [
    "# 计算预测和真实的标签\n",
    "result = np.concatenate(result_frag)\n",
    "true_label = np.concatenate(label_frag)\n",
    "rank = result.argsort()\n",
    "predict_label = np.array([rank[i,-1] for i, l in enumerate(true_label)])\n",
    "print(\"准确率Top1：\",sum(predict_label==true_label)/predict_label.shape[0])"
   ]
  },
  {
   "cell_type": "markdown",
   "metadata": {},
   "source": [
    "# 4.绘制混淆矩阵（confusion matrix）"
   ]
  },
  {
   "cell_type": "code",
   "execution_count": 13,
   "metadata": {},
   "outputs": [
    {
     "name": "stdout",
     "output_type": "stream",
     "text": [
      "(60, 60)\n"
     ]
    }
   ],
   "source": [
    "cm = confusion_matrix(true_label, predict_label)\n",
    "np.savetxt(\"cm_test.csv\",cm,delimiter=',')\n",
    "print(cm.shape)"
   ]
  },
  {
   "cell_type": "code",
   "execution_count": 30,
   "metadata": {},
   "outputs": [],
   "source": [
    "cm = cm.astype('float') / cm.sum(axis=1)[:,np.newaxis]\n",
    "fig = plt.figure(figsize=(13, 12))\n",
    "plt.imshow(cm, interpolation='nearest')  # 更换配色：cmap=plt.cm.Set3\n",
    "# plt.title(\"MGL Confusion Matrix\")\n",
    "plt.colorbar()   # 热力图渐变色条\n",
    "num_action = np.array(range(len(action_names)))\n",
    "plt.xticks(num_action, action_names, rotation=90, fontproperties = 'Times New Roman',fontsize=7)   # 将标签印在x轴上\n",
    "plt.yticks(num_action, action_names,fontproperties = 'Times New Roman',fontsize=7)   # 将标签印在y轴上\n",
    "plt.xlabel('True Label')\n",
    "plt.ylabel('Predicted Label')\n",
    "plt.savefig('cm.png',dpi=600)"
   ]
  },
  {
   "cell_type": "code",
   "execution_count": null,
   "metadata": {},
   "outputs": [],
   "source": []
  }
 ],
 "metadata": {
  "kernelspec": {
   "display_name": "Python [conda env:uex_gpu]",
   "language": "python",
   "name": "conda-env-uex_gpu-py"
  },
  "language_info": {
   "codemirror_mode": {
    "name": "ipython",
    "version": 3
   },
   "file_extension": ".py",
   "mimetype": "text/x-python",
   "name": "python",
   "nbconvert_exporter": "python",
   "pygments_lexer": "ipython3",
   "version": "3.5.6"
  }
 },
 "nbformat": 4,
 "nbformat_minor": 5
}
